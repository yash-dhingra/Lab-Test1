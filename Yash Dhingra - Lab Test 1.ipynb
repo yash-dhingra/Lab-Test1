{
 "cells": [
  {
   "cell_type": "code",
   "execution_count": 40,
   "id": "3ba3a136",
   "metadata": {},
   "outputs": [],
   "source": [
    "import numpy as np"
   ]
  },
  {
   "cell_type": "code",
   "execution_count": 41,
   "id": "3d6b0db0",
   "metadata": {},
   "outputs": [],
   "source": [
    "# Question 1\n",
    "patient_list=np.array([[1,\"Yash Dhingra\",1,\"DASNAC\",\"Diabatic\",'xyz','LT1',100],[2,\"Mello\",2,\"ATS\",\"Diabatic\",'xyz','LT1',2000],[3,\"Aarav\",2,\"DASNAC\",\"Diabatic\",'xyz','LT1',500]])"
   ]
  },
  {
   "cell_type": "code",
   "execution_count": 42,
   "id": "c12eb139",
   "metadata": {},
   "outputs": [
    {
     "data": {
      "text/plain": [
       "array([['1', 'Yash Dhingra', '1', 'DASNAC', 'Diabatic', 'xyz', 'LT1',\n",
       "        '100'],\n",
       "       ['2', 'Mello', '2', 'ATS', 'Diabatic', 'xyz', 'LT1', '2000'],\n",
       "       ['3', 'Aarav', '2', 'DASNAC', 'Diabatic', 'xyz', 'LT1', '500']],\n",
       "      dtype='<U12')"
      ]
     },
     "execution_count": 42,
     "metadata": {},
     "output_type": "execute_result"
    }
   ],
   "source": [
    "patient_list"
   ]
  },
  {
   "cell_type": "code",
   "execution_count": 43,
   "id": "5892477a",
   "metadata": {},
   "outputs": [],
   "source": [
    "# Question 2\n",
    "doctor_list=np.array([[1,\"Dr Yash\",\"Physiology\"],[2,\"Dr John Doe\",\"Cancer Specialist\"]])\n"
   ]
  },
  {
   "cell_type": "code",
   "execution_count": 44,
   "id": "32ad6c4f",
   "metadata": {},
   "outputs": [
    {
     "data": {
      "text/plain": [
       "array([['1', 'Dr Yash', 'Physiology'],\n",
       "       ['2', 'Dr John Doe', 'Cancer Specialist']], dtype='<U17')"
      ]
     },
     "execution_count": 44,
     "metadata": {},
     "output_type": "execute_result"
    }
   ],
   "source": [
    "doctor_list"
   ]
  },
  {
   "cell_type": "code",
   "execution_count": 45,
   "id": "214fc070",
   "metadata": {},
   "outputs": [],
   "source": [
    "# Question 3\n",
    "doc_id=2\n",
    "arr3=[i for i in patient_list if i[2]==str(doc_id)]"
   ]
  },
  {
   "cell_type": "code",
   "execution_count": 46,
   "id": "7be9c00d",
   "metadata": {},
   "outputs": [
    {
     "name": "stdout",
     "output_type": "stream",
     "text": [
      "[array(['2', 'Mello', '2', 'ATS', 'Diabatic', 'xyz', 'LT1', '2000'],\n",
      "      dtype='<U12'),\n",
      " array(['3', 'Aarav', '2', 'DASNAC', 'Diabatic', 'xyz', 'LT1', '500'],\n",
      "      dtype='<U12')]\n"
     ]
    }
   ],
   "source": [
    "from pprint import pprint \n",
    "pprint(arr3)"
   ]
  },
  {
   "cell_type": "code",
   "execution_count": 47,
   "id": "65b3a46b",
   "metadata": {},
   "outputs": [],
   "source": [
    "# Question 4\n",
    "def update_treatment(pid,new_treat):\n",
    "    patient_list[pid-1][5]=new_treat\n",
    "    print(\"Update Succesfull\")"
   ]
  },
  {
   "cell_type": "code",
   "execution_count": 48,
   "id": "9d7e6831",
   "metadata": {},
   "outputs": [
    {
     "data": {
      "text/plain": [
       "array([['1', 'Yash Dhingra', '1', 'DASNAC', 'Diabatic', 'xyz', 'LT1',\n",
       "        '100'],\n",
       "       ['2', 'Mello', '2', 'ATS', 'Diabatic', 'xyz', 'LT1', '2000'],\n",
       "       ['3', 'Aarav', '2', 'DASNAC', 'Diabatic', 'xyz', 'LT1', '500']],\n",
       "      dtype='<U12')"
      ]
     },
     "execution_count": 48,
     "metadata": {},
     "output_type": "execute_result"
    }
   ],
   "source": [
    "patient_list"
   ]
  },
  {
   "cell_type": "code",
   "execution_count": 49,
   "id": "dce199a4",
   "metadata": {},
   "outputs": [
    {
     "name": "stdout",
     "output_type": "stream",
     "text": [
      "Update Succesfull\n"
     ]
    }
   ],
   "source": [
    "update_treatment(2,\"Anti-biotics\")"
   ]
  },
  {
   "cell_type": "code",
   "execution_count": 50,
   "id": "5b2fe400",
   "metadata": {},
   "outputs": [
    {
     "data": {
      "text/plain": [
       "array([['1', 'Yash Dhingra', '1', 'DASNAC', 'Diabatic', 'xyz', 'LT1',\n",
       "        '100'],\n",
       "       ['2', 'Mello', '2', 'ATS', 'Diabatic', 'Anti-biotics', 'LT1',\n",
       "        '2000'],\n",
       "       ['3', 'Aarav', '2', 'DASNAC', 'Diabatic', 'xyz', 'LT1', '500']],\n",
       "      dtype='<U12')"
      ]
     },
     "execution_count": 50,
     "metadata": {},
     "output_type": "execute_result"
    }
   ],
   "source": [
    "patient_list"
   ]
  },
  {
   "cell_type": "code",
   "execution_count": 86,
   "id": "6d7b0fc5",
   "metadata": {},
   "outputs": [
    {
     "name": "stdout",
     "output_type": "stream",
     "text": [
      "Minimum Patiants Doctor ID:  1\n",
      "Maximum Patiants Doctor ID:  2\n"
     ]
    }
   ],
   "source": [
    "# Question 5\n",
    "\n",
    "# Innitialize Dictionary\n",
    "count_dict=dict()\n",
    "for i in doctor_list:\n",
    "    count_dict[i[0]]=0\n",
    "    \n",
    "# Now traverse through all the patiant records and add accordingly\n",
    "for i in patient_list:\n",
    "    count_dict[i[2]]+=1\n",
    "    \n",
    "# Convert dict into list\n",
    "count_list=list(count_dict.items())\n",
    "sorted(count_list,key=lambda x: x[1])\n",
    "count_list\n",
    "\n",
    "# Print Result\n",
    "print(\"Minimum Patiants Doctor ID: \",count_list[0][0])\n",
    "print(\"Maximum Patiants Doctor ID: \",count_list[-1][0])"
   ]
  },
  {
   "cell_type": "code",
   "execution_count": 75,
   "id": "77b43f16",
   "metadata": {},
   "outputs": [],
   "source": [
    "# Question 6\n",
    "\n",
    "def find(arr,ele):\n",
    "    for i in range(0,len(arr)):\n",
    "        if ele==arr[i]:\n",
    "            return i\n",
    "\n",
    "bills=np.array([int(i[-1]) for i in patient_list])\n",
    "max_bill=bills.max()\n",
    "min_bill=bills.min()"
   ]
  },
  {
   "cell_type": "code",
   "execution_count": 77,
   "id": "7e6066dd",
   "metadata": {},
   "outputs": [
    {
     "name": "stdout",
     "output_type": "stream",
     "text": [
      "array(['2', 'Mello', '2', 'ATS', 'Diabatic', 'Anti-biotics', 'LT1',\n",
      "       '2000'], dtype='<U12')\n"
     ]
    }
   ],
   "source": [
    "max_bill_pat_id=find(bills,max_bill)\n",
    "pprint(patient_list[max_bill_pat_id])"
   ]
  },
  {
   "cell_type": "code",
   "execution_count": 78,
   "id": "16496cc3",
   "metadata": {},
   "outputs": [
    {
     "name": "stdout",
     "output_type": "stream",
     "text": [
      "array(['1', 'Yash Dhingra', '1', 'DASNAC', 'Diabatic', 'xyz', 'LT1',\n",
      "       '100'], dtype='<U12')\n"
     ]
    }
   ],
   "source": [
    "min_bill_pat_id=find(bills,min_bill)\n",
    "pprint(patient_list[min_bill_pat_id])"
   ]
  },
  {
   "cell_type": "code",
   "execution_count": null,
   "id": "1a639ca0",
   "metadata": {},
   "outputs": [],
   "source": []
  }
 ],
 "metadata": {
  "kernelspec": {
   "display_name": "Python 3 (ipykernel)",
   "language": "python",
   "name": "python3"
  },
  "language_info": {
   "codemirror_mode": {
    "name": "ipython",
    "version": 3
   },
   "file_extension": ".py",
   "mimetype": "text/x-python",
   "name": "python",
   "nbconvert_exporter": "python",
   "pygments_lexer": "ipython3",
   "version": "3.11.5"
  }
 },
 "nbformat": 4,
 "nbformat_minor": 5
}
